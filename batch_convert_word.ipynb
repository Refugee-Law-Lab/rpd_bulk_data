{
 "cells": [
  {
   "cell_type": "markdown",
   "metadata": {},
   "source": [
    "### Notebook for taking cases from word documents and converting them to text documents\n",
    "\n",
    "The notebook uses pywin32 to control a full version of MS Office (on a windows machine), opens each word document in a target directory (both doc and docx), has word convert the document to a text file, save that text file in an output folder, and close the files.\n",
    "\n",
    "This approach was adopted because (as of Nov 2023) python packagaes for accessing word documents are not reliable in terms of getting the footnotes and various other features (depending on how those are encoded and depending on whether one os using doc or docx).\n",
    "\n",
    "It is slow (500 files per minute), but that is fine because we typically don't have more than a couple hundred files to add at any given time, and we only need to do the full backlog (100k cases) once. So, no effort has been made to speed this up, to try parallel processing, etc. There are also a few hundred cases that don't load properly because of corruption of the underlying word file (some XML paths are apparently missing) -- and that process throws errors, which requires some babying to run. Haven't tried to fix those because under 0.5% of files.\n",
    "\n",
    "At some point in the future we may care about formatting (bold, etc) which is lost in this process, in which case we can rethink the approach.\n",
    "\n",
    "At some point we can think about integrating this into an automated pipeline."
   ]
  },
  {
   "cell_type": "code",
   "execution_count": null,
   "metadata": {},
   "outputs": [],
   "source": [
    "import win32com.client as win32\n",
    "import pathlib\n",
    "\n",
    "input_folder = 'D:\\\\documents\\\\'\n",
    "output_folder = 'D:\\\\IRB Decisions - Initial Request - TEXT\\\\'"
   ]
  },
  {
   "cell_type": "code",
   "execution_count": null,
   "metadata": {},
   "outputs": [],
   "source": [
    "def convert_doc_to_txt(input_path, output_path):\n",
    "    print ('Converting file: ', input_path)\n",
    "    try:\n",
    "        \n",
    "        # open the word document\n",
    "        word.Documents.Open(str(input_path))\n",
    "\n",
    "        # save word doc as text using word's built in functionality\n",
    "        doc = word.ActiveDocument\n",
    "        #time.sleep(2)\n",
    "\n",
    "        doc.SaveAs(str(output_path), FileFormat=7)\n",
    "        \n",
    "        # Close the document\n",
    "        doc.Close()\n",
    "        \n",
    "        return None\n",
    "    \n",
    "    except Exception as e:\n",
    "        print(f\"An error occurred, stopping process: {e}\")\n",
    "\n",
    "        # Close the document\n",
    "        try: \n",
    "            doc.Close()\n",
    "        except:\n",
    "            pass\n",
    "\n",
    "    return None\n",
    "\n",
    "# get list of files that are doc/docx\n",
    "files = pathlib.Path(input_folder).glob('*.doc*')\n",
    "\n",
    "# ouput folder path\n",
    "output_folder = pathlib.Path(output_folder).absolute()\n",
    "\n",
    "# create output folder if it doesn't exist\n",
    "if not output_folder.exists():\n",
    "    output_folder.mkdir(parents=True)\n",
    "\n",
    "# Create a new instance of Word\n",
    "word = win32.gencache.EnsureDispatch('Word.Application')\n",
    "\n",
    "# Loop through the doc files and convert them\n",
    "for file in files:\n",
    "    # check if output file already exists\n",
    "    if (output_folder / (file.stem + '.txt')).exists():\n",
    "        print('File already exists, skipping: ', file)\n",
    "        continue\n",
    "    input_path = file.absolute()\n",
    "    output_path = output_folder / (file.stem + '.txt')   \n",
    "    convert_doc_to_txt(input_path, output_path)\n",
    "\n",
    "# close word\n",
    "word.Quit()\n",
    "\n"
   ]
  }
 ],
 "metadata": {
  "kernelspec": {
   "display_name": "Python 3 (ipykernel)",
   "language": "python",
   "name": "python3"
  },
  "language_info": {
   "codemirror_mode": {
    "name": "ipython",
    "version": 3
   },
   "file_extension": ".py",
   "mimetype": "text/x-python",
   "name": "python",
   "nbconvert_exporter": "python",
   "pygments_lexer": "ipython3",
   "version": "3.11.4"
  }
 },
 "nbformat": 4,
 "nbformat_minor": 2
}
